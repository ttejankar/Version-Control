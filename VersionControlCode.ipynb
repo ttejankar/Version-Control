{
 "cells": [
  {
   "cell_type": "code",
   "execution_count": 11,
   "id": "f3fb0477-5dfa-441f-8e2d-bf13ee9df2fc",
   "metadata": {},
   "outputs": [
    {
     "name": "stdin",
     "output_type": "stream",
     "text": [
      "What is your name? Liana\n",
      "What is your age? 18\n"
     ]
    },
    {
     "name": "stdout",
     "output_type": "stream",
     "text": [
      "Hello, Liana! You will be turning 19 on your next birthday.\n"
     ]
    }
   ],
   "source": [
    "name = input(\"What is your name?\") #prompts user for name\n",
    "age = input(\"What is your age?\") #prompts user for age\n",
    "new_age = int(age) + 1 #converts 'age' value to int and adds 1 to age\n",
    "str_new_age = str(new_age) #turns 'age' back into string in order to concatenate and print smoothly\n",
    "\n",
    "print(\"Hello, \" + name + \"! You will be turning \" + str_new_age + \" on your next birthday.\")"
   ]
  },
  {
   "cell_type": "code",
   "execution_count": null,
   "id": "2783514c-b21e-493e-84e2-bbd72e3579b1",
   "metadata": {},
   "outputs": [],
   "source": []
  }
 ],
 "metadata": {
  "kernelspec": {
   "display_name": "Python 3 (ipykernel)",
   "language": "python",
   "name": "python3"
  },
  "language_info": {
   "codemirror_mode": {
    "name": "ipython",
    "version": 3
   },
   "file_extension": ".py",
   "mimetype": "text/x-python",
   "name": "python",
   "nbconvert_exporter": "python",
   "pygments_lexer": "ipython3",
   "version": "3.12.4"
  }
 },
 "nbformat": 4,
 "nbformat_minor": 5
}
